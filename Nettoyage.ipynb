{
 "cells": [
  {
   "cell_type": "code",
   "execution_count": null,
   "id": "8c332cf1-d378-4472-b26b-268478fac101",
   "metadata": {},
   "outputs": [],
   "source": [
    "#Dans ce Notebook on s'intéressera aux nettoyages des tweets afin de rendre la base de données exploitable"
   ]
  },
  {
   "cell_type": "code",
   "execution_count": null,
   "id": "60289a85-d8f7-4e41-ba6a-7def918009bf",
   "metadata": {},
   "outputs": [],
   "source": [
    "sentiment analysis package\n",
    "nltk\n",
    "textblob\n",
    "flair\n"
   ]
  },
  {
   "cell_type": "code",
   "execution_count": null,
   "id": "16c9183e-1280-4a48-98e8-5fc4b12bb91c",
   "metadata": {},
   "outputs": [],
   "source": []
  }
 ],
 "metadata": {
  "kernelspec": {
   "display_name": "Python 3 (ipykernel)",
   "language": "python",
   "name": "python3"
  },
  "language_info": {
   "codemirror_mode": {
    "name": "ipython",
    "version": 3
   },
   "file_extension": ".py",
   "mimetype": "text/x-python",
   "name": "python",
   "nbconvert_exporter": "python",
   "pygments_lexer": "ipython3",
   "version": "3.10.4"
  }
 },
 "nbformat": 4,
 "nbformat_minor": 5
}
