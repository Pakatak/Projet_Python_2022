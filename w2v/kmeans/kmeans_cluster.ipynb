{
 "cells": [
  {
   "cell_type": "markdown",
   "metadata": {
    "colab": {
     "base_uri": "https://localhost:8080/"
    },
    "executionInfo": {
     "elapsed": 12089,
     "status": "ok",
     "timestamp": 1671527820081,
     "user": {
      "displayName": "Fabrice Kamwa",
      "userId": "05527827721989776127"
     },
     "user_tz": -60
    },
    "id": "XlGOIxyzpDbM",
    "outputId": "edfb4082-1ed8-4793-e0d9-0440781ca5c9"
   },
   "source": [
    "# Introduction\n",
    "\n",
    "+ A partir de la modélisation vectorielle , grâce à la méthode des Kmeans , on déterminera 2 clusters dont l'un representera les mots à polarité positive et l'autre les mots à polarité négative.\n",
    "+ On pourra dès lors prédire la polarité =  (1 ou -1 dépendement de sa nature positive ou négative) x l'inverse de sa proximité par rapport au centre du cluster.\n",
    "\n",
    "On utilise une classification non supervisée car de base on ne connait pas la polarité des mots et c'est à cette dernière que l'on veut déterminer."
   ]
  },
  {
   "cell_type": "markdown",
   "metadata": {},
   "source": [
    "## Importation"
   ]
  },
  {
   "cell_type": "code",
   "execution_count": null,
   "metadata": {},
   "outputs": [],
   "source": [
    "!pip install --upgrade gensim\n",
    "import numpy as np\n",
    "import pandas as pd\n",
    "import gensim\n",
    "from gensim.models import Word2Vec\n",
    "from sklearn.cluster import KMeans\n",
    "import matplotlib.pyplot as plt\n",
    "import seaborn as sns\n",
    "from sklearn.decomposition import PCA\n",
    "from sklearn.preprocessing import StandardScaler"
   ]
  },
  {
   "cell_type": "markdown",
   "metadata": {},
   "source": [
    "## creation_cluster\n",
    "\n",
    "+ Permet de créer des cluster à partir du model formé dans le fichier embedding.ipynb\n",
    "\n",
    "+ Etant impossible de connaître quel indice de cluster correspond au sentiment positif ou  négatif , on affiche leurs 20 plus proches voisins et on détermine manuellement quel indice correspond au sentiments positis et negatifs."
   ]
  },
  {
   "cell_type": "code",
   "execution_count": null,
   "metadata": {
    "id": "HsH4Vv2epR2N"
   },
   "outputs": [],
   "source": [
    "def creation_cluster():\n",
    "\n",
    "  word_vectors = Word2Vec.load(\"../word2vec/word2vec.model\").wv\n",
    "  model = KMeans(n_clusters=2, max_iter=10000, random_state=True, n_init=50).fit(X=word_vectors.vectors.astype('double'))\n",
    "\n",
    "  centre_1=word_vectors.similar_by_vector(model.cluster_centers_[1], topn=20, restrict_vocab=None)\n",
    "  centre_0=word_vectors.similar_by_vector(model.cluster_centers_[0], topn=20, restrict_vocab=None)\n",
    "\n",
    "  print(\"pour les 20 mots plus proches du centre indexé à 1:  {}\".format([word[0] for word in centre_1]))\n",
    "  print(\"                                               à 0:  {}\".format([word[0] for word in centre_0]))\n",
    "  return model,word_vectors\n",
    "\n"
   ]
  },
  {
   "cell_type": "code",
   "execution_count": null,
   "metadata": {
    "colab": {
     "base_uri": "https://localhost:8080/"
    },
    "executionInfo": {
     "elapsed": 27611,
     "status": "ok",
     "timestamp": 1671527847687,
     "user": {
      "displayName": "Fabrice Kamwa",
      "userId": "05527827721989776127"
     },
     "user_tz": -60
    },
    "id": "swyExeGp-BO7",
    "outputId": "a81e3c82-35a0-4b54-ff4e-1a09bf170f48"
   },
   "outputs": [
    {
     "name": "stdout",
     "output_type": "stream",
     "text": [
      "pour les 20 mots plus proches du centre indexé à 1:  ['fastidieux', 'est-elle', 'écocid', 'xxèm', 'socio-économique', 'électrification', 'harmoniser', 'disposez', 'éventualité', 'récréatif', 'suppléer', 'restrictif', 'aquatique', 'octroi', 'obstruction', 'quesque', 'consacre', 'sytème', 'responsabilisation', 'sédentarité']\n",
      "                                               à 0:  ['multiverse', 'balécouill', 'ninporte', 'Insta', 'multivers', 'flair', 'Blc', 'Tageul', 'Marci', 'benmachin', 'Meilleure', 'est-çe', 'debilos', 'POV', 'nonvaccinophobie', 'Goat', 'MashAllah', 'idea', 'zipette', 'Influenceur']\n"
     ]
    }
   ],
   "source": [
    "model,word_vectors=creation_cluster()"
   ]
  },
  {
   "cell_type": "markdown",
   "metadata": {},
   "source": [
    "##### On détermine le sentiment par indice"
   ]
  },
  {
   "cell_type": "code",
   "execution_count": null,
   "metadata": {
    "id": "1SkobV2s94R3"
   },
   "outputs": [],
   "source": [
    "#je construit la liste d'indices positives,negatives et neutre  de chaque moi moi en observant 20 plus proches voisins je deduis la nature des sentiments de chaque indice\n",
    "pos=1\n",
    "neg=0"
   ]
  },
  {
   "cell_type": "markdown",
   "metadata": {},
   "source": [
    "## creation_dictionnaire_sentiment\n",
    "\n",
    "Cette fonction permet de:\n",
    "+ Créer un dictionnaire contenant l'ensemble des mots du vocabulaire et leur polarité\n",
    "+ La polarité est déterminé par la prediction du sentiment du mot et son poids qui correspond à l'inverse de la distance au centre du cluster"
   ]
  },
  {
   "cell_type": "code",
   "execution_count": null,
   "metadata": {
    "id": "7YZvMruqu-6F"
   },
   "outputs": [],
   "source": [
    "def creation_dictionnaire_sentiment(model,word_vectors,pos,neg):#,neu):\n",
    "\n",
    "    positive_cluster_center = model.cluster_centers_[pos]\n",
    "    negative_cluster_center = model.cluster_centers_[neg]\n",
    "    #neutral_cluster_center = model.cluster_centers_[neu]\n",
    "\n",
    "    words = pd.DataFrame(word_vectors.index_to_key)\n",
    "    words.columns = ['words']\n",
    "    words['vectors'] = words.words.apply(lambda x: word_vectors[f'{x}'])\n",
    "    words['cluster'] = words.vectors.apply(lambda x: model.predict([np.array(x)]))\n",
    "    words.cluster = words.cluster.apply(lambda x: x[0])\n",
    "\n",
    "    words['cluster_value'] = [1 if i==pos else -1 for i in words.cluster]\n",
    "    words['closeness_score'] = words.apply(lambda x: 1/(model.transform([x.vectors]).min()), axis=1)\n",
    "    words['sentiment_coeff'] = words.closeness_score * words.cluster_value\n",
    "\n",
    "    words[['words', 'sentiment_coeff']].to_csv(\"dict_sentiment.csv\")\n",
    "    return words[['words', 'sentiment_coeff']]"
   ]
  },
  {
   "cell_type": "markdown",
   "metadata": {},
   "source": [
    "#### Construction du dictionnaire de sentiment"
   ]
  },
  {
   "cell_type": "code",
   "execution_count": null,
   "metadata": {
    "colab": {
     "base_uri": "https://localhost:8080/",
     "height": 424
    },
    "executionInfo": {
     "elapsed": 24233,
     "status": "ok",
     "timestamp": 1671527871903,
     "user": {
      "displayName": "Fabrice Kamwa",
      "userId": "05527827721989776127"
     },
     "user_tz": -60
    },
    "id": "owUgp2HnBpJL",
    "outputId": "3a5ae44f-209b-4923-dd60-8ec01b9a69fc"
   },
   "outputs": [
    {
     "data": {
      "text/html": [
       "\n",
       "  <div id=\"df-5a87ffbc-d4f0-40e5-8abf-dff64c50d590\">\n",
       "    <div class=\"colab-df-container\">\n",
       "      <div>\n",
       "<style scoped>\n",
       "    .dataframe tbody tr th:only-of-type {\n",
       "        vertical-align: middle;\n",
       "    }\n",
       "\n",
       "    .dataframe tbody tr th {\n",
       "        vertical-align: top;\n",
       "    }\n",
       "\n",
       "    .dataframe thead th {\n",
       "        text-align: right;\n",
       "    }\n",
       "</style>\n",
       "<table border=\"1\" class=\"dataframe\">\n",
       "  <thead>\n",
       "    <tr style=\"text-align: right;\">\n",
       "      <th></th>\n",
       "      <th>words</th>\n",
       "      <th>sentiment_coeff</th>\n",
       "    </tr>\n",
       "  </thead>\n",
       "  <tbody>\n",
       "    <tr>\n",
       "      <th>0</th>\n",
       "      <td>faire</td>\n",
       "      <td>1.111830</td>\n",
       "    </tr>\n",
       "    <tr>\n",
       "      <th>1</th>\n",
       "      <td>le</td>\n",
       "      <td>1.161597</td>\n",
       "    </tr>\n",
       "    <tr>\n",
       "      <th>2</th>\n",
       "      <td>tout</td>\n",
       "      <td>1.147832</td>\n",
       "    </tr>\n",
       "    <tr>\n",
       "      <th>3</th>\n",
       "      <td>plus</td>\n",
       "      <td>1.178380</td>\n",
       "    </tr>\n",
       "    <tr>\n",
       "      <th>4</th>\n",
       "      <td>vous</td>\n",
       "      <td>1.176877</td>\n",
       "    </tr>\n",
       "    <tr>\n",
       "      <th>...</th>\n",
       "      <td>...</td>\n",
       "      <td>...</td>\n",
       "    </tr>\n",
       "    <tr>\n",
       "      <th>24798</th>\n",
       "      <td>descrimination</td>\n",
       "      <td>-2.125025</td>\n",
       "    </tr>\n",
       "    <tr>\n",
       "      <th>24799</th>\n",
       "      <td>aneanti</td>\n",
       "      <td>-2.618446</td>\n",
       "    </tr>\n",
       "    <tr>\n",
       "      <th>24800</th>\n",
       "      <td>tribun</td>\n",
       "      <td>-2.594583</td>\n",
       "    </tr>\n",
       "    <tr>\n",
       "      <th>24801</th>\n",
       "      <td>déporte</td>\n",
       "      <td>1.733132</td>\n",
       "    </tr>\n",
       "    <tr>\n",
       "      <th>24802</th>\n",
       "      <td>facepoussin</td>\n",
       "      <td>-1.483479</td>\n",
       "    </tr>\n",
       "  </tbody>\n",
       "</table>\n",
       "<p>24803 rows × 2 columns</p>\n",
       "</div>\n",
       "      <button class=\"colab-df-convert\" onclick=\"convertToInteractive('df-5a87ffbc-d4f0-40e5-8abf-dff64c50d590')\"\n",
       "              title=\"Convert this dataframe to an interactive table.\"\n",
       "              style=\"display:none;\">\n",
       "        \n",
       "  <svg xmlns=\"http://www.w3.org/2000/svg\" height=\"24px\"viewBox=\"0 0 24 24\"\n",
       "       width=\"24px\">\n",
       "    <path d=\"M0 0h24v24H0V0z\" fill=\"none\"/>\n",
       "    <path d=\"M18.56 5.44l.94 2.06.94-2.06 2.06-.94-2.06-.94-.94-2.06-.94 2.06-2.06.94zm-11 1L8.5 8.5l.94-2.06 2.06-.94-2.06-.94L8.5 2.5l-.94 2.06-2.06.94zm10 10l.94 2.06.94-2.06 2.06-.94-2.06-.94-.94-2.06-.94 2.06-2.06.94z\"/><path d=\"M17.41 7.96l-1.37-1.37c-.4-.4-.92-.59-1.43-.59-.52 0-1.04.2-1.43.59L10.3 9.45l-7.72 7.72c-.78.78-.78 2.05 0 2.83L4 21.41c.39.39.9.59 1.41.59.51 0 1.02-.2 1.41-.59l7.78-7.78 2.81-2.81c.8-.78.8-2.07 0-2.86zM5.41 20L4 18.59l7.72-7.72 1.47 1.35L5.41 20z\"/>\n",
       "  </svg>\n",
       "      </button>\n",
       "      \n",
       "  <style>\n",
       "    .colab-df-container {\n",
       "      display:flex;\n",
       "      flex-wrap:wrap;\n",
       "      gap: 12px;\n",
       "    }\n",
       "\n",
       "    .colab-df-convert {\n",
       "      background-color: #E8F0FE;\n",
       "      border: none;\n",
       "      border-radius: 50%;\n",
       "      cursor: pointer;\n",
       "      display: none;\n",
       "      fill: #1967D2;\n",
       "      height: 32px;\n",
       "      padding: 0 0 0 0;\n",
       "      width: 32px;\n",
       "    }\n",
       "\n",
       "    .colab-df-convert:hover {\n",
       "      background-color: #E2EBFA;\n",
       "      box-shadow: 0px 1px 2px rgba(60, 64, 67, 0.3), 0px 1px 3px 1px rgba(60, 64, 67, 0.15);\n",
       "      fill: #174EA6;\n",
       "    }\n",
       "\n",
       "    [theme=dark] .colab-df-convert {\n",
       "      background-color: #3B4455;\n",
       "      fill: #D2E3FC;\n",
       "    }\n",
       "\n",
       "    [theme=dark] .colab-df-convert:hover {\n",
       "      background-color: #434B5C;\n",
       "      box-shadow: 0px 1px 3px 1px rgba(0, 0, 0, 0.15);\n",
       "      filter: drop-shadow(0px 1px 2px rgba(0, 0, 0, 0.3));\n",
       "      fill: #FFFFFF;\n",
       "    }\n",
       "  </style>\n",
       "\n",
       "      <script>\n",
       "        const buttonEl =\n",
       "          document.querySelector('#df-5a87ffbc-d4f0-40e5-8abf-dff64c50d590 button.colab-df-convert');\n",
       "        buttonEl.style.display =\n",
       "          google.colab.kernel.accessAllowed ? 'block' : 'none';\n",
       "\n",
       "        async function convertToInteractive(key) {\n",
       "          const element = document.querySelector('#df-5a87ffbc-d4f0-40e5-8abf-dff64c50d590');\n",
       "          const dataTable =\n",
       "            await google.colab.kernel.invokeFunction('convertToInteractive',\n",
       "                                                     [key], {});\n",
       "          if (!dataTable) return;\n",
       "\n",
       "          const docLinkHtml = 'Like what you see? Visit the ' +\n",
       "            '<a target=\"_blank\" href=https://colab.research.google.com/notebooks/data_table.ipynb>data table notebook</a>'\n",
       "            + ' to learn more about interactive tables.';\n",
       "          element.innerHTML = '';\n",
       "          dataTable['output_type'] = 'display_data';\n",
       "          await google.colab.output.renderOutput(dataTable, element);\n",
       "          const docLink = document.createElement('div');\n",
       "          docLink.innerHTML = docLinkHtml;\n",
       "          element.appendChild(docLink);\n",
       "        }\n",
       "      </script>\n",
       "    </div>\n",
       "  </div>\n",
       "  "
      ],
      "text/plain": [
       "                words  sentiment_coeff\n",
       "0               faire         1.111830\n",
       "1                  le         1.161597\n",
       "2                tout         1.147832\n",
       "3                plus         1.178380\n",
       "4                vous         1.176877\n",
       "...               ...              ...\n",
       "24798  descrimination        -2.125025\n",
       "24799         aneanti        -2.618446\n",
       "24800          tribun        -2.594583\n",
       "24801         déporte         1.733132\n",
       "24802     facepoussin        -1.483479\n",
       "\n",
       "[24803 rows x 2 columns]"
      ]
     },
     "execution_count": 6,
     "metadata": {},
     "output_type": "execute_result"
    }
   ],
   "source": [
    "creation_dictionnaire_sentiment(model,word_vectors,pos,neg)"
   ]
  }
 ],
 "metadata": {
  "colab": {
   "authorship_tag": "ABX9TyNGdE1Df0eLnhzg+JvWV6KG",
   "mount_file_id": "1XXFXpREUtTF__Kit90cRa04irkoBLjss",
   "provenance": []
  },
  "kernelspec": {
   "display_name": "Python 3",
   "language": "python",
   "name": "python3"
  },
  "language_info": {
   "codemirror_mode": {
    "name": "ipython",
    "version": 3
   },
   "file_extension": ".py",
   "mimetype": "text/x-python",
   "name": "python",
   "nbconvert_exporter": "python",
   "pygments_lexer": "ipython3",
   "version": "3.7.6"
  }
 },
 "nbformat": 4,
 "nbformat_minor": 1
}
