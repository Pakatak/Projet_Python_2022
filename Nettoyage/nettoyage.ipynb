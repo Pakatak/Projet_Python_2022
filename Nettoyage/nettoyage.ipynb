{
 "cells": [
  {
   "cell_type": "markdown",
   "metadata": {
    "colab": {
     "base_uri": "https://localhost:8080/"
    },
    "executionInfo": {
     "elapsed": 14715,
     "status": "ok",
     "timestamp": 1671519278447,
     "user": {
      "displayName": "Fabrice Kamwa",
      "userId": "05527827721989776127"
     },
     "user_tz": -60
    },
    "id": "3CDWXPoF9DZR",
    "outputId": "265b3bb8-0191-4fcb-ee99-9aae6200d064"
   },
   "source": [
    "# Introduction\n",
    "\n",
    "Ce notebook permet le nettoyage des données, et retourne le Dataframe nettoyé qui sera utilisé pour l'analyse"
   ]
  },
  {
   "cell_type": "markdown",
   "metadata": {},
   "source": [
    "## Importation"
   ]
  },
  {
   "cell_type": "code",
   "execution_count": null,
   "metadata": {},
   "outputs": [],
   "source": [
    "!pip install deep-translator\n",
    "!pip install spacy\n",
    "!pip install translate\n",
    "!pip install googletrans"
   ]
  },
  {
   "cell_type": "code",
   "execution_count": null,
   "metadata": {},
   "outputs": [],
   "source": [
    "import spacy\n",
    "import pandas as pd\n",
    "from translate import Translator\n",
    "import nltk\n",
    "nltk.download('stopwords')\n",
    "import string\n",
    "from re import sub\n",
    "from nltk.corpus import stopwords\n",
    "from nltk.stem import PorterStemmer\n",
    "from deep_translator import GoogleTranslator\n",
    "from nltk.stem.snowball import SnowballStemmer\n",
    "!python -m spacy download fr_core_news_md"
   ]
  },
  {
   "cell_type": "code",
   "execution_count": null,
   "metadata": {
    "id": "rifjMEyH9RTc"
   },
   "outputs": [],
   "source": [
    "translator = GoogleTranslator(source='auto', target='fr')\n",
    "nlp=spacy.load('fr_core_news_md')"
   ]
  },
  {
   "cell_type": "markdown",
   "metadata": {},
   "source": [
    "## convert_emojis_to_word:\n",
    "\n",
    "permet de transformer les emojis d'un texte en mots, on préfère les garder pour mieux analyser les sentiments"
   ]
  },
  {
   "cell_type": "code",
   "execution_count": null,
   "metadata": {
    "id": "UfV5tBKA9VUO"
   },
   "outputs": [],
   "source": [
    "\n",
    "\n",
    "try:\n",
    "    import cPickle as pickle\n",
    "except ImportError: \n",
    "    import pickle\n",
    "import re\n",
    "\n",
    "with open('Emoji_Dict.p', 'rb') as fp:\n",
    "    Emoji_Dict = pickle.load(fp)\n",
    "Emoji_Dict = {v: k for k, v in Emoji_Dict.items()}\n",
    "\n",
    "def convert_emojis_to_word(text):\n",
    "    for emot in Emoji_Dict:\n",
    "        if emot in text:\n",
    "            convert=\" \".join(Emoji_Dict[emot].replace(\",\",\"\").replace(\":\",\"\").replace(\"_\",\" \").split())\n",
    "            text = re.sub(r'('+emot+')', translator.translate(convert) , text)\n",
    "    return text\n"
   ]
  },
  {
   "cell_type": "markdown",
   "metadata": {},
   "source": [
    "## les stopwords:\n",
    "\n",
    "c'est une liste de mots qui n'exprime pas de sentiment dans notre contexte . Une partie est déjà défini dans nltk, on va juste rajouter ceux qui nous semble inutiles par rapport au contexte."
   ]
  },
  {
   "cell_type": "code",
   "execution_count": null,
   "metadata": {
    "id": "Y-XT8ow99VVk"
   },
   "outputs": [],
   "source": [
    "STOPWORDS = stopwords.words('french')\n",
    "STOPWORDS += list(string.punctuation)+list(string.ascii_uppercase)+list(string.ascii_lowercase)+['vacciné','vaccin','russe','ukrainien','peuple',\n",
    "           'Macron','Lola','rouler','president','le','la','energie','chomage',\n",
    "           'election','retraite','ecologique','ecologie','climat',\n",
    "           'faire','vous','aller','cela','France','plus','visage',\n",
    "           'président','françai','comme','wallet','quand',\n",
    "           'quoi','dire','vouloir','falloir','pouvoir',\n",
    "           'devoir','venir','joievisage','être', \n",
    "           'Afrique', 'Poutine','alors','Europe','vacciner',\n",
    "           'Monsieur','pourquoi','français','savoir','avoir',\n",
    "           'pays','ukraine','poutine','russie','guerre','Arménie','tout',\n",
    "           'Brésil','Africain','riantrouler','croix','tout','voir','ciel','latine']\n",
    "STOPWORDS = set(STOPWORDS)"
   ]
  },
  {
   "cell_type": "code",
   "execution_count": null,
   "metadata": {
    "id": "3f7ihcRD9VY7"
   },
   "outputs": [],
   "source": [
    "def lemme(tweet):\n",
    "  doc = nlp(tweet)\n",
    "  empty_list = []\n",
    "  for token in doc:\n",
    "    empty_list.append(token.lemma_)\n",
    "  final_string = ' '.join(map(str,empty_list))\n",
    "  return final_string"
   ]
  },
  {
   "cell_type": "markdown",
   "metadata": {},
   "source": [
    "##  text_to_word_list:\n",
    "\n",
    "permet de nettoyer les tweets  de la manière suivante:\n",
    "\n",
    "+ suppression des doublons\n",
    "+ transformation des emojis en texte\n",
    "+ supprimer les liens\n",
    "+ supprimer des retour à la ligne\n",
    "+ suppresion des tags\n",
    "+ suppression des htags\n",
    "+ supression des apostrophes\n",
    "+ suppression des mails\n",
    "+ suppression des chaînes de caractères contenant des nombres\n",
    "+ suppression des stopwords\n",
    "+ lemmatisation et steming qui consiste entre autres à transformer les abréviations conventionnelles en leur réelles expressions, à mettre les verbes à l'infinitif pour éviter la répétition..."
   ]
  },
  {
   "cell_type": "code",
   "execution_count": null,
   "metadata": {
    "id": "c3HQcvTg9Vdm"
   },
   "outputs": [],
   "source": [
    "\n",
    "def text_to_word_list(tweets):\n",
    "     \n",
    "    tweets= tweets.apply(lambda tweet:convert_emojis_to_word(tweet))\n",
    "    tweets=tweets.replace(re.compile(r\"((www\\.[^\\s]+)|(http(s)?://[^\\s]+))\"), \"\")\n",
    "    tweets = tweets.str.replace(\"\\n\", \" \").replace(\"\\r\", \" \") \n",
    "    tweets=tweets.str.replace(\"@[\\w]*\",\"\")\n",
    "  \n",
    "    tweets=tweets.str.replace(re.compile(r\"[,\\!\\?\\%\\(\\)\\/\\\"\\$\\£\\+\\*\\µ,\\:\\&\\§\\.]\"), \" \")\n",
    "    tweets=tweets.str.replace(re.compile(r\"([#]\\w+)\"),\"\")\n",
    "    tweets=tweets.str.replace(re.compile(r\"([\\’])\"),\" \")\n",
    "    tweets=tweets.str.replace(re.compile(r\"([\\'])\"),\" \")\n",
    "    tweets=tweets.str.replace(re.compile(r\"\\S+@\\S+\"),\"\")\n",
    "    tweets=tweets.str.replace(re.compile(r\"([.]{1,5})\"),\"\")\n",
    "    tweets= tweets.str.replace(r\"[A-Za-z\\.]*[0-9]+[A-Za-z%°\\.]*\",\"\")\n",
    "    \n",
    "\n",
    "    tweets= tweets.str.split()\n",
    "    tweets= tweets.apply(lambda tweet: [word for word in tweet if word not in STOPWORDS])\n",
    "    tweets= tweets.apply(lambda tweet: \" \".join(tweet))\n",
    "    tweets= tweets.apply(lambda tweet: lemme(tweet))\n",
    "    return tweets "
   ]
  },
  {
   "cell_type": "markdown",
   "metadata": {},
   "source": [
    "# cleaned_all_data: \n",
    "\n",
    "exécute le nettoyage du dataframe et le sauvegarde dans df_clean "
   ]
  },
  {
   "cell_type": "code",
   "execution_count": null,
   "metadata": {
    "id": "lQn4catL9VhB"
   },
   "outputs": [],
   "source": [
    "\n",
    "def cleaned_all_data(df):\n",
    "  df.drop_duplicates(subset=['Tweet'])\n",
    "  df['sl_clean']=text_to_word_list(df['Tweet'])\n",
    "  df.to_csv(\"df_clean.csv\",index=False)\n",
    "  return df"
   ]
  },
  {
   "cell_type": "markdown",
   "metadata": {},
   "source": [
    "# read_all_data:\n",
    "\n",
    "recupère les données scrappées"
   ]
  },
  {
   "cell_type": "code",
   "execution_count": null,
   "metadata": {
    "id": "BW4UULAu9rff"
   },
   "outputs": [],
   "source": [
    "def read_all_data():\n",
    "\n",
    "  df=pd.read_csv(\"../scrapping/df.csv\")\n",
    "  return df"
   ]
  },
  {
   "cell_type": "code",
   "execution_count": null,
   "metadata": {
    "colab": {
     "base_uri": "https://localhost:8080/"
    },
    "executionInfo": {
     "elapsed": 4572349,
     "status": "ok",
     "timestamp": 1671523884287,
     "user": {
      "displayName": "Fabrice Kamwa",
      "userId": "05527827721989776127"
     },
     "user_tz": -60
    },
    "id": "WLfTpFl7_kNf",
    "outputId": "4dab62c6-44b1-4770-9f15-ffec5ba41f71"
   },
   "outputs": [
    {
     "name": "stderr",
     "output_type": "stream",
     "text": [
      "<ipython-input-7-84a4862e8efe>:6: FutureWarning: The default value of regex will change from True to False in a future version.\n",
      "  tweets=tweets.str.replace(\"@[\\w]*\",\"\")\n",
      "<ipython-input-7-84a4862e8efe>:14: FutureWarning: The default value of regex will change from True to False in a future version.\n",
      "  tweets= tweets.str.replace(r\"[A-Za-z\\.]*[0-9]+[A-Za-z%°\\.]*\",\"\")\n"
     ]
    }
   ],
   "source": [
    "df=cleaned_all_data(read_all_data())"
   ]
  }
 ],
 "metadata": {
  "colab": {
   "authorship_tag": "ABX9TyO76OhXsykXIf7OEc3sFYrD",
   "mount_file_id": "1aw4r8hznWi1Jrd14DGTJFgArl-FExTCf",
   "provenance": []
  },
  "kernelspec": {
   "display_name": "Python 3",
   "language": "python",
   "name": "python3"
  },
  "language_info": {
   "codemirror_mode": {
    "name": "ipython",
    "version": 3
   },
   "file_extension": ".py",
   "mimetype": "text/x-python",
   "name": "python",
   "nbconvert_exporter": "python",
   "pygments_lexer": "ipython3",
   "version": "3.7.6"
  }
 },
 "nbformat": 4,
 "nbformat_minor": 1
}
