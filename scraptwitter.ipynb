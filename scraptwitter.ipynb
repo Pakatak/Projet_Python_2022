{
 "cells": [
  {
   "cell_type": "code",
   "execution_count": 16,
   "metadata": {
    "colab": {
     "base_uri": "https://localhost:8080/"
    },
    "executionInfo": {
     "elapsed": 4576,
     "status": "ok",
     "timestamp": 1670793235996,
     "user": {
      "displayName": "Fabrice Kamwa",
      "userId": "05527827721989776127"
     },
     "user_tz": -60
    },
    "id": "3vSJR40pttlY",
    "outputId": "681937a4-fc5e-4530-9193-bd2f7a981671"
   },
   "outputs": [
    {
     "name": "stdout",
     "output_type": "stream",
     "text": [
      "Looking in indexes: https://pypi.org/simple, https://us-python.pkg.dev/colab-wheels/public/simple/\n",
      "Requirement already satisfied: snscrape in /usr/local/lib/python3.8/dist-packages (0.4.3.20220106)\n",
      "Requirement already satisfied: pytz in /usr/local/lib/python3.8/dist-packages (from snscrape) (2022.6)\n",
      "Requirement already satisfied: lxml in /usr/local/lib/python3.8/dist-packages (from snscrape) (4.9.1)\n",
      "Requirement already satisfied: requests[socks] in /usr/local/lib/python3.8/dist-packages (from snscrape) (2.23.0)\n",
      "Requirement already satisfied: filelock in /usr/local/lib/python3.8/dist-packages (from snscrape) (3.8.0)\n",
      "Requirement already satisfied: beautifulsoup4 in /usr/local/lib/python3.8/dist-packages (from snscrape) (4.6.3)\n",
      "Requirement already satisfied: chardet<4,>=3.0.2 in /usr/local/lib/python3.8/dist-packages (from requests[socks]->snscrape) (3.0.4)\n",
      "Requirement already satisfied: certifi>=2017.4.17 in /usr/local/lib/python3.8/dist-packages (from requests[socks]->snscrape) (2022.9.24)\n",
      "Requirement already satisfied: urllib3!=1.25.0,!=1.25.1,<1.26,>=1.21.1 in /usr/local/lib/python3.8/dist-packages (from requests[socks]->snscrape) (1.24.3)\n",
      "Requirement already satisfied: idna<3,>=2.5 in /usr/local/lib/python3.8/dist-packages (from requests[socks]->snscrape) (2.10)\n",
      "Requirement already satisfied: PySocks!=1.5.7,>=1.5.6 in /usr/local/lib/python3.8/dist-packages (from requests[socks]->snscrape) (1.7.1)\n"
     ]
    }
   ],
   "source": [
    "!pip install snscrape"
   ]
  },
  {
   "cell_type": "code",
   "execution_count": 18,
   "metadata": {
    "executionInfo": {
     "elapsed": 200,
     "status": "ok",
     "timestamp": 1670793244073,
     "user": {
      "displayName": "Fabrice Kamwa",
      "userId": "05527827721989776127"
     },
     "user_tz": -60
    },
    "id": "rUz4rmLNt7fm"
   },
   "outputs": [],
   "source": [
    "import snscrape.modules.twitter as sntwitter\n",
    "import pandas as pd"
   ]
  },
  {
   "cell_type": "code",
   "execution_count": 19,
   "metadata": {
    "executionInfo": {
     "elapsed": 195,
     "status": "ok",
     "timestamp": 1670793245597,
     "user": {
      "displayName": "Fabrice Kamwa",
      "userId": "05527827721989776127"
     },
     "user_tz": -60
    },
    "id": "IeEDphAouKHD"
   },
   "outputs": [],
   "source": [
    "\n",
    "def recup_data(query,limit=25000):\n",
    "\n",
    "  tweets=[]\n",
    "\n",
    "  for tweet in sntwitter.TwitterSearchScraper(query).get_items():\n",
    "      if len(tweets)==limit:\n",
    "          break\n",
    "      else:\n",
    "          tweets.append([tweet.date,tweet.user.username,tweet.content])\n",
    "  return pd.DataFrame(tweets,columns=['Date','User','Tweet'])\n"
   ]
  },
  {
   "cell_type": "code",
   "execution_count": 20,
   "metadata": {
    "executionInfo": {
     "elapsed": 93913,
     "status": "ok",
     "timestamp": 1670793346693,
     "user": {
      "displayName": "Fabrice Kamwa",
      "userId": "05527827721989776127"
     },
     "user_tz": -60
    },
    "id": "YuzMjsfDxAab"
   },
   "outputs": [],
   "source": [
    "query1=\" (to:EmmanuelMacron) lang:fr until:2022-02-01 since:2022-01-01\"\n",
    "df_jan=recup_data(query1)\n",
    "query2=\"(to:EmmanuelMacron) lang:fr until:2022-03-01 since:2022-02-01\"\n",
    "df_fev=recup_data(query2)\n",
    "query3=\"(to:EmmanuelMacron) lang:fr until:2022-04-01 since:2022-03-01\"\n",
    "df_mar=recup_data(query3)\n",
    "query4=\"(to:EmmanuelMacron) lang:fr until:2022-05-01 since:2022-04-01\"\n",
    "df_avr=recup_data(query4)\n",
    "query5=\"(to:EmmanuelMacron) lang:fr until:2022-06-01 since:2022-05-01\"\n",
    "df_mai=recup_data(query5)\n",
    "query6=\"(to:EmmanuelMacron) lang:fr until:2022-07-01 since:2022-06-01\"\n",
    "df_juin=recup_data(query6)\n",
    "query7=\"(to:EmmanuelMacron) lang:fr until:2022-08-01 since:2022-07-01\"\n",
    "df_juil=recup_data(query7)\n",
    "query8=\"(to:EmmanuelMacron) lang:fr until:2022-09-01 since:2022-08-01\"\n",
    "df_aou=recup_data(query8)\n",
    "query9=\"(to:EmmanuelMacron) lang:fr until:2022-10-01 since:2022-09-01\"\n",
    "df_sep=recup_data(query9)\n",
    "query10=\"(to:EmmanuelMacron) lang:fr until:2022-11-01 since:2022-10-01\"\n",
    "df_oct=recup_data(query10)\n",
    "query11=\"(to:EmmanuelMacron) lang:fr until:2022-12-01 since:2022-11-01\"\n",
    "df_nov=recup_data(query11)"
   ]
  },
  {
   "cell_type": "code",
   "execution_count": 21,
   "metadata": {
    "executionInfo": {
     "elapsed": 204,
     "status": "ok",
     "timestamp": 1670793359795,
     "user": {
      "displayName": "Fabrice Kamwa",
      "userId": "05527827721989776127"
     },
     "user_tz": -60
    },
    "id": "QmeMouxC8TWB"
   },
   "outputs": [],
   "source": [
    "df_jan.to_csv('df_jan.csv',index=False)\n",
    "df_fev.to_csv('df_fev.csv',index=False)\n",
    "df_mar.to_csv('df_mar.csv',index=False)\n",
    "df_avr.to_csv('df_avr.csv',index=False)\n",
    "df_mai.to_csv('df_mai.csv',index=False)\n",
    "df_juin.to_csv('df_juin.csv',index=False)\n",
    "df_juil.to_csv('df_juil.csv',index=False)\n",
    "df_aou.to_csv('df_aou.csv',index=False)\n",
    "df_sep.to_csv('df_sep.csv',index=False)\n",
    "df_oct.to_csv('df_oct.csv',index=False)\n",
    "df_nov.to_csv('df_nov.csv',index=False)"
   ]
  }
 ],
 "metadata": {
  "colab": {
   "authorship_tag": "ABX9TyNHUmFkjaEG/M0fUQVdYOOf",
   "provenance": []
  },
  "kernelspec": {
   "display_name": "Python 3",
   "language": "python",
   "name": "python3"
  },
  "language_info": {
   "codemirror_mode": {
    "name": "ipython",
    "version": 3
   },
   "file_extension": ".py",
   "mimetype": "text/x-python",
   "name": "python",
   "nbconvert_exporter": "python",
   "pygments_lexer": "ipython3",
   "version": "3.7.6"
  }
 },
 "nbformat": 4,
 "nbformat_minor": 1
}
